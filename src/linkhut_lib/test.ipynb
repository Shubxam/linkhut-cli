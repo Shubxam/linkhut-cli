{
 "cells": [
  {
   "cell_type": "code",
   "execution_count": 4,
   "id": "fe57bda6",
   "metadata": {},
   "outputs": [
    {
     "data": {
      "text/plain": [
       "['a', 'b', 'c', 'd']"
      ]
     },
     "execution_count": 4,
     "metadata": {},
     "output_type": "execute_result"
    }
   ],
   "source": [
    "tag_list = ['a', 'b'] + ['c', 'd']\n",
    "tag_list"
   ]
  },
  {
   "cell_type": "code",
   "execution_count": 3,
   "id": "6e75d61c",
   "metadata": {},
   "outputs": [
    {
     "data": {
      "text/plain": [
       "[]"
      ]
     },
     "execution_count": 3,
     "metadata": {},
     "output_type": "execute_result"
    }
   ],
   "source": [
    "[] + []"
   ]
  },
  {
   "cell_type": "code",
   "execution_count": 5,
   "id": "89f03abb",
   "metadata": {},
   "outputs": [],
   "source": [
    "tag_str = ','.join(tag_list)"
   ]
  },
  {
   "cell_type": "code",
   "execution_count": 6,
   "id": "b931f234",
   "metadata": {},
   "outputs": [
    {
     "data": {
      "text/plain": [
       "'a,b,c,d'"
      ]
     },
     "execution_count": 6,
     "metadata": {},
     "output_type": "execute_result"
    }
   ],
   "source": [
    "tag_str"
   ]
  },
  {
   "cell_type": "code",
   "execution_count": null,
   "id": "71610860",
   "metadata": {},
   "outputs": [],
   "source": []
  }
 ],
 "metadata": {
  "kernelspec": {
   "display_name": ".venv",
   "language": "python",
   "name": "python3"
  },
  "language_info": {
   "codemirror_mode": {
    "name": "ipython",
    "version": 3
   },
   "file_extension": ".py",
   "mimetype": "text/x-python",
   "name": "python",
   "nbconvert_exporter": "python",
   "pygments_lexer": "ipython3",
   "version": "3.11.11"
  }
 },
 "nbformat": 4,
 "nbformat_minor": 5
}
